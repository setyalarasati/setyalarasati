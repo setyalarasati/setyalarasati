{
 "cells": [
  {
   "cell_type": "code",
   "execution_count": 1,
   "id": "cdfb651a-3977-4881-a6b7-c3f5558ce36e",
   "metadata": {},
   "outputs": [
    {
     "name": "stdout",
     "output_type": "stream",
     "text": [
      "#/==========================================/\n",
      "#/                                          /\n",
      "#/             Program halo.py              /\n",
      "#/    By rr.larasati.setya@mail.ugm.ac.id   /\n",
      "#/                                          /\n",
      "#/==========================================/\n"
     ]
    }
   ],
   "source": [
    "print(\"#/==========================================/\")\n",
    "print(\"#/                                          /\")\n",
    "print(\"#/             Program halo.py              /\")\n",
    "print(\"#/    By rr.larasati.setya@mail.ugm.ac.id   /\")\n",
    "print(\"#/                                          /\")\n",
    "print(\"#/==========================================/\")"
   ]
  },
  {
   "cell_type": "code",
   "execution_count": null,
   "id": "f4c30bc3-e8df-43d3-b8f7-66d0e9a11213",
   "metadata": {},
   "outputs": [],
   "source": []
  }
 ],
 "metadata": {
  "kernelspec": {
   "display_name": "Python 3",
   "language": "python",
   "name": "python3"
  },
  "language_info": {
   "codemirror_mode": {
    "name": "ipython",
    "version": 3
   },
   "file_extension": ".py",
   "mimetype": "text/x-python",
   "name": "python",
   "nbconvert_exporter": "python",
   "pygments_lexer": "ipython3",
   "version": "3.8.5"
  }
 },
 "nbformat": 4,
 "nbformat_minor": 5
}
